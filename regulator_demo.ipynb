{
 "cells": [
  {
   "cell_type": "markdown",
   "id": "7fb27b941602401d91542211134fc71a",
   "metadata": {
    "id": "7fb27b941602401d91542211134fc71a"
   },
   "source": [
    "# Regulator: Market Competition & Collusion Detection Demo\n",
    "\n",
    "This notebook demonstrates the core functionality of the Regulator system for simulating market competition and detecting collusive behavior.\n",
    "\n",
    "## What is Regulator?\n",
    "\n",
    "Regulator is a comprehensive system for:\n",
    "\n",
    "1. **Market Simulation**: Oligopolistic price competition with dynamic demand elasticity\n",
    "2. **Agent Framework**: Multiple firm types (random, tit-for-tat, adaptive learning, chat-enabled)\n",
    "3. **Detection Systems**: ML-based and LLM-powered collusion detection\n",
    "4. **Regulatory Monitoring**: Enhanced regulator with graduated penalties and risk scoring\n",
    "\n",
    "**Key Features:**\n",
    "- Real-time collusion detection using machine learning\n",
    "- Natural language chat monitoring with LLM analysis\n",
    "- Economic validation and consistency checks\n",
    "- Interactive dashboard for visualization"
   ]
  },
  {
   "cell_type": "markdown",
   "id": "acae54e37e7d407bbb7b55eff062a284",
   "metadata": {
    "id": "acae54e37e7d407bbb7b55eff062a284"
   },
   "source": [
    "## Setup and Installation"
   ]
  },
  {
   "cell_type": "code",
   "execution_count": null,
   "id": "9a63283cbaf04dbcab1f6479b197f3a8",
   "metadata": {
    "id": "9a63283cbaf04dbcab1f6479b197f3a8"
   },
   "outputs": [],
   "source": [
    "! [ ! -d \"regulator\" ] && git clone https://github.com/bangyen/regulator.git\n",
    "! cd regulator && pip install -e .\n",
    "\n",
    "print(\"Setup complete!\")"
   ]
  },
  {
   "cell_type": "markdown",
   "id": "8dd0d8092fe74a7c96281538738b07e2",
   "metadata": {
    "id": "8dd0d8092fe74a7c96281538738b07e2"
   },
   "source": [
    "## Imports and Configuration"
   ]
  },
  {
   "cell_type": "code",
   "execution_count": null,
   "id": "0e0c4552",
   "metadata": {
    "id": "0e0c4552"
   },
   "outputs": [],
   "source": [
    "import os\n",
    "\n",
    "os.chdir(\"./regulator\")\n",
    "print(f\"Current working directory: {os.getcwd()}\")"
   ]
  },
  {
   "cell_type": "code",
   "execution_count": null,
   "id": "72eea5119410473aa328ad9291626812",
   "metadata": {
    "id": "72eea5119410473aa328ad9291626812"
   },
   "outputs": [],
   "source": [
    "import numpy as np\n",
    "import matplotlib.pyplot as plt\n",
    "from src.cartel.cartel_env import CartelEnv\n",
    "from src.agents.firm_agents import RandomAgent, TitForTatAgent, BestResponseAgent\n",
    "from src.agents.enhanced_regulator import EnhancedRegulator\n",
    "from src.agents.ml_regulator import MLRegulator\n",
    "\n",
    "print(\"Imports successful!\")"
   ]
  },
  {
   "cell_type": "markdown",
   "id": "8edb47106e1a46a883d545849b8ab81b",
   "metadata": {
    "id": "8edb47106e1a46a883d545849b8ab81b"
   },
   "source": [
    "## Market Simulation with Collusion Detection"
   ]
  },
  {
   "cell_type": "code",
   "execution_count": null,
   "id": "10185d26023b46108eb7d9f57d49d2b3",
   "metadata": {
    "id": "10185d26023b46108eb7d9f57d49d2b3"
   },
   "outputs": [],
   "source": [
    "def run_market_simulation():\n",
    "    \"\"\"Run a simple market simulation with collusion detection.\"\"\"\n",
    "    print(\"Regulator Demo - Market Simulation with Collusion Detection\")\n",
    "    print(\"=\" * 60)\n",
    "    \n",
    "    # Create market environment with correct parameters\n",
    "    env = CartelEnv(\n",
    "        n_firms=3,\n",
    "        max_steps=50,\n",
    "        price_elasticity=-1.5,  # Price elasticity of demand (negative value)\n",
    "        use_capacity_constraints=True,\n",
    "        capacity=[100, 100, 100],  # Capacity for each firm\n",
    "        marginal_cost=10.0,\n",
    "        demand_intercept=100.0,\n",
    "        demand_slope=-1.0\n",
    "    )\n",
    "    \n",
    "    # Create different types of agents\n",
    "    agents = [\n",
    "        RandomAgent(agent_id=0),\n",
    "        TitForTatAgent(agent_id=1),\n",
    "        BestResponseAgent(agent_id=2)\n",
    "    ]\n",
    "    \n",
    "    # Create regulators with more sensitive thresholds to see some detection\n",
    "    enhanced_regulator = EnhancedRegulator(\n",
    "        use_graduated_penalties=True,\n",
    "        use_market_awareness=True,\n",
    "        parallel_threshold=2.0,  # More sensitive\n",
    "        structural_break_threshold=10.0  # More sensitive\n",
    "    )\n",
    "    \n",
    "    ml_regulator = MLRegulator(\n",
    "        use_ml_detection=True,\n",
    "        ml_anomaly_threshold=0.05,  # More sensitive\n",
    "        ml_collusion_threshold=0.5  # More sensitive\n",
    "    )\n",
    "    \n",
    "    # Run simulation\n",
    "    obs, info = env.reset()  # Reset returns (observation, info) tuple\n",
    "    prices_history = []\n",
    "    profits_history = []\n",
    "    violations_history = []\n",
    "    \n",
    "    print(\"Running simulation...\")\n",
    "    \n",
    "    for step in range(env.max_steps):\n",
    "        # Get actions from agents using choose_price method\n",
    "        actions = []\n",
    "        for i, agent in enumerate(agents):\n",
    "            action = agent.choose_price(obs, env)  # Pass full observation to each agent\n",
    "            actions.append(action)\n",
    "        \n",
    "        # Step environment - returns 5 values in Gymnasium format\n",
    "        obs, rewards, terminated, truncated, info = env.step(actions)\n",
    "        \n",
    "        # Extract prices and profits from info dictionary\n",
    "        prices = info['prices'].tolist()  # Convert numpy array to list\n",
    "        profits = info['total_profits'].tolist()  # Convert numpy array to list\n",
    "        \n",
    "        prices_history.append(prices.copy())\n",
    "        profits_history.append(profits.copy())\n",
    "        \n",
    "        # Update agent histories so they can learn from previous prices\n",
    "        for i, agent in enumerate(agents):\n",
    "            # Get rival prices (all other firms' prices)\n",
    "            rival_prices = np.array([prices[j] for j in range(len(agents)) if j != i])\n",
    "            agent.update_history(prices[i], rival_prices)\n",
    "        \n",
    "        # Monitor with regulators - convert back to numpy arrays for regulator methods\n",
    "        prices_array = np.array(prices)\n",
    "        enhanced_result = enhanced_regulator.monitor_step(prices_array, step, info)\n",
    "        ml_result = ml_regulator.monitor_step(prices_array, step, info)\n",
    "        \n",
    "        # Extract more detailed information for visualization\n",
    "        violations = {\n",
    "            'enhanced_violations': enhanced_result.get('violation_details', []),\n",
    "            'ml_violations': ml_result.get('violation_details', []),\n",
    "            'market_volatility': enhanced_result.get('market_volatility', 0.0),\n",
    "            'ml_anomaly_score': ml_result.get('ml_anomaly_score', 0.0),\n",
    "            'ml_collusion_probability': ml_result.get('ml_collusion_probability', 0.0),\n",
    "            'fines_applied': enhanced_result.get('fines_applied', [0, 0, 0])\n",
    "        }\n",
    "        violations_history.append(violations)\n",
    "        \n",
    "        if step % 10 == 0:\n",
    "            print(\n",
    "                f\"Step {step}:\\n\"\n",
    "                f\"  Prices  = {[f'{p:.2f}' for p in prices]}\\n\"\n",
    "                f\"  Profits = {[f'{pr:.2f}' for pr in profits]}\\n\"\n",
    "                f\"  Market volatility: {violations['market_volatility']:.3f}\"\n",
    "            )\n",
    "    \n",
    "    return prices_history, profits_history, violations_history\n",
    "\n",
    "# Run the simulation\n",
    "prices_history, profits_history, violations_history = run_market_simulation()"
   ]
  },
  {
   "cell_type": "markdown",
   "id": "8763a12b2bbd4a93a75aff182afb95dc",
   "metadata": {
    "id": "8763a12b2bbd4a93a75aff182afb95dc"
   },
   "source": [
    "## Visualization and Analysis"
   ]
  },
  {
   "cell_type": "code",
   "execution_count": null,
   "id": "226b0af6",
   "metadata": {},
   "outputs": [],
   "source": [
    "# Visualize price trajectories and market volatility\n",
    "plt.figure(figsize=(12, 5))\n",
    "\n",
    "# Plot prices over time\n",
    "plt.subplot(1, 2, 1)\n",
    "for i in range(3):\n",
    "    prices = [step[i] for step in prices_history]\n",
    "    plt.plot(prices, label=f'Firm {i}', marker='o', markersize=3)\n",
    "plt.title('Price Trajectories')\n",
    "plt.xlabel('Step')\n",
    "plt.ylabel('Price')\n",
    "plt.legend()\n",
    "plt.grid(True, alpha=0.3)\n",
    "\n",
    "# Plot market volatility over time\n",
    "plt.subplot(1, 2, 2)\n",
    "market_volatility = [step['market_volatility'] for step in violations_history]\n",
    "plt.plot(market_volatility, label='Market Volatility', marker='^', markersize=3, color='red')\n",
    "plt.title('Market Volatility Over Time')\n",
    "plt.xlabel('Step')\n",
    "plt.ylabel('Volatility')\n",
    "plt.legend()\n",
    "plt.grid(True, alpha=0.3)\n",
    "\n",
    "plt.tight_layout()\n",
    "plt.show()\n",
    "\n",
    "# Summary statistics\n",
    "print(\"\\nSimulation Summary:\")\n",
    "print(\"=\" * 40)\n",
    "print(f\"Total steps: {len(prices_history)}\")\n",
    "print(f\"Average prices: {[round(np.mean([step[i] for step in prices_history]), 2) for i in range(3)]}\")\n",
    "print(f\"Average profits: {[round(np.mean([step[i] for step in profits_history]), 2) for i in range(3)]}\")\n",
    "print(f\"Max market volatility: {max([step['market_volatility'] for step in violations_history]):.3f}\")\n",
    "print(f\"Max ML anomaly score: {max([step['ml_anomaly_score'] for step in violations_history]):.3f}\")\n",
    "print(f\"Max ML collusion probability: {max([step['ml_collusion_probability'] for step in violations_history]):.3f}\")\n",
    "print(f\"Total fines applied: {sum([sum(step['fines_applied']) for step in violations_history]):.2f}\")\n",
    "print(f\"Steps with fines: {sum(1 for step in violations_history if sum(step['fines_applied']) > 0)}\")"
   ]
  },
  {
   "cell_type": "markdown",
   "id": "01c24a2c",
   "metadata": {},
   "source": [
    "## Key Takeaways\n",
    "\n",
    "This demo shows how the Regulator system works:\n",
    "\n",
    "1. **Market Simulation**: Creates realistic oligopolistic competition with dynamic pricing\n",
    "2. **Agent Diversity**: Different firm types (Random, Tit-for-Tat, Best Response) create varied market dynamics\n",
    "3. **Dual Detection**: Enhanced regulator with graduated penalties and ML-based anomaly detection\n",
    "4. **Real-time Monitoring**: Continuous risk scoring and violation detection throughout the simulation\n",
    "\n",
    "### Next Steps\n",
    "\n",
    "- **Run experiments**: `regulator experiment --steps 100 --firms \"random,tit_for_tat,best_response\"`\n",
    "- **Launch dashboard**: `regulator dashboard` for interactive visualization\n",
    "- **Try chat agents**: Use `CollusiveChatAgent` and `CompetitiveChatAgent` with LLM detection\n",
    "- **Leniency programs**: Run `python scripts/leniency_experiment.py` to test whistleblower dynamics\n",
    "- **Custom agents**: Create new agent types in `src/agents/firm_agents.py`\n",
    "\n",
    "### Advanced Features\n",
    "\n",
    "- **Economic validation**: Built-in consistency checks for market dynamics\n",
    "- **ML detection**: LightGBM-based collusion classification\n",
    "- **LLM monitoring**: OpenAI-powered natural language analysis\n",
    "- **Graduated penalties**: Dynamic penalty structures based on violation severity\n",
    "\n",
    "For more information, visit the [GitHub repository](https://github.com/bangyen/regulator).\n"
   ]
  }
 ],
 "metadata": {
  "colab": {
   "provenance": []
  },
  "kernelspec": {
   "display_name": "venv",
   "language": "python",
   "name": "python3"
  },
  "language_info": {
   "codemirror_mode": {
    "name": "ipython",
    "version": 3
   },
   "file_extension": ".py",
   "mimetype": "text/x-python",
   "name": "python",
   "nbconvert_exporter": "python",
   "pygments_lexer": "ipython3",
   "version": "3.9.6"
  }
 },
 "nbformat": 4,
 "nbformat_minor": 5
}
